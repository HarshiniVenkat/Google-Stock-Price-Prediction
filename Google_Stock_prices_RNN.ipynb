{
  "nbformat": 4,
  "nbformat_minor": 0,
  "metadata": {
    "colab": {
      "name": "Stock prices-RNN.ipynb",
      "provenance": [],
      "authorship_tag": "ABX9TyOJqh9eM3LbS6jZhjvtOKSE",
      "include_colab_link": true
    },
    "kernelspec": {
      "name": "python3",
      "display_name": "Python 3"
    }
  },
  "cells": [
    {
      "cell_type": "markdown",
      "metadata": {
        "id": "view-in-github",
        "colab_type": "text"
      },
      "source": [
        "<a href=\"https://colab.research.google.com/github/HarshiniVenkat/Machine-Deep-Learning/blob/master/Google_Stock_prices_RNN.ipynb\" target=\"_parent\"><img src=\"https://colab.research.google.com/assets/colab-badge.svg\" alt=\"Open In Colab\"/></a>"
      ]
    },
    {
      "cell_type": "code",
      "metadata": {
        "id": "93hhSXwXvjyU",
        "colab_type": "code",
        "outputId": "55e3a22f-0d5a-4dbc-f363-b090523293fa",
        "colab": {
          "base_uri": "https://localhost:8080/",
          "height": 34
        }
      },
      "source": [
        "from google.colab import drive\n",
        "drive.mount('/content/gdrive/')"
      ],
      "execution_count": 0,
      "outputs": [
        {
          "output_type": "stream",
          "text": [
            "Drive already mounted at /content/gdrive/; to attempt to forcibly remount, call drive.mount(\"/content/gdrive/\", force_remount=True).\n"
          ],
          "name": "stdout"
        }
      ]
    },
    {
      "cell_type": "code",
      "metadata": {
        "id": "8f_VdZHO2uyZ",
        "colab_type": "code",
        "outputId": "7bd80df2-1d4c-44a8-c168-33c1fbfd118e",
        "colab": {
          "base_uri": "https://localhost:8080/",
          "height": 275
        }
      },
      "source": [
        "!pip install PyDrive"
      ],
      "execution_count": 0,
      "outputs": [
        {
          "output_type": "stream",
          "text": [
            "Requirement already satisfied: PyDrive in /usr/local/lib/python3.6/dist-packages (1.3.1)\n",
            "Requirement already satisfied: oauth2client>=4.0.0 in /usr/local/lib/python3.6/dist-packages (from PyDrive) (4.1.3)\n",
            "Requirement already satisfied: PyYAML>=3.0 in /usr/local/lib/python3.6/dist-packages (from PyDrive) (3.13)\n",
            "Requirement already satisfied: google-api-python-client>=1.2 in /usr/local/lib/python3.6/dist-packages (from PyDrive) (1.7.11)\n",
            "Requirement already satisfied: pyasn1>=0.1.7 in /usr/local/lib/python3.6/dist-packages (from oauth2client>=4.0.0->PyDrive) (0.4.8)\n",
            "Requirement already satisfied: pyasn1-modules>=0.0.5 in /usr/local/lib/python3.6/dist-packages (from oauth2client>=4.0.0->PyDrive) (0.2.8)\n",
            "Requirement already satisfied: rsa>=3.1.4 in /usr/local/lib/python3.6/dist-packages (from oauth2client>=4.0.0->PyDrive) (4.0)\n",
            "Requirement already satisfied: httplib2>=0.9.1 in /usr/local/lib/python3.6/dist-packages (from oauth2client>=4.0.0->PyDrive) (0.11.3)\n",
            "Requirement already satisfied: six>=1.6.1 in /usr/local/lib/python3.6/dist-packages (from oauth2client>=4.0.0->PyDrive) (1.12.0)\n",
            "Requirement already satisfied: google-auth>=1.4.1 in /usr/local/lib/python3.6/dist-packages (from google-api-python-client>=1.2->PyDrive) (1.7.2)\n",
            "Requirement already satisfied: google-auth-httplib2>=0.0.3 in /usr/local/lib/python3.6/dist-packages (from google-api-python-client>=1.2->PyDrive) (0.0.3)\n",
            "Requirement already satisfied: uritemplate<4dev,>=3.0.0 in /usr/local/lib/python3.6/dist-packages (from google-api-python-client>=1.2->PyDrive) (3.0.1)\n",
            "Requirement already satisfied: setuptools>=40.3.0 in /usr/local/lib/python3.6/dist-packages (from google-auth>=1.4.1->google-api-python-client>=1.2->PyDrive) (45.2.0)\n",
            "Requirement already satisfied: cachetools<3.2,>=2.0.0 in /usr/local/lib/python3.6/dist-packages (from google-auth>=1.4.1->google-api-python-client>=1.2->PyDrive) (3.1.1)\n"
          ],
          "name": "stdout"
        }
      ]
    },
    {
      "cell_type": "code",
      "metadata": {
        "id": "aPVKCU6W27Wg",
        "colab_type": "code",
        "colab": {}
      },
      "source": [
        "from pydrive.auth import GoogleAuth\n",
        "from pydrive.drive import GoogleDrive\n",
        "from google.colab import auth\n",
        "from oauth2client.client import GoogleCredentials"
      ],
      "execution_count": 0,
      "outputs": []
    },
    {
      "cell_type": "code",
      "metadata": {
        "id": "f1_veW5s2964",
        "colab_type": "code",
        "colab": {}
      },
      "source": [
        "auth.authenticate_user()\n",
        "gauth = GoogleAuth()\n",
        "gauth.credentials = GoogleCredentials.get_application_default()\n",
        "drive = GoogleDrive(gauth)"
      ],
      "execution_count": 0,
      "outputs": []
    },
    {
      "cell_type": "code",
      "metadata": {
        "id": "COHCBg3m3AbA",
        "colab_type": "code",
        "colab": {}
      },
      "source": [
        "downloaded = drive.CreateFile({'id':\"1K8RaYLsi-PQGj9irsO2zmZLd2v_B9qJp\"})   # replace the id with id of file you want to access\n",
        "downloaded.GetContentFile('stock_train.csv') "
      ],
      "execution_count": 0,
      "outputs": []
    },
    {
      "cell_type": "code",
      "metadata": {
        "id": "9CK2IC0O4Mlh",
        "colab_type": "code",
        "colab": {}
      },
      "source": [
        "import numpy as np\n",
        "import matplotlib.pyplot as plt\n",
        "import pandas as pd"
      ],
      "execution_count": 0,
      "outputs": []
    },
    {
      "cell_type": "code",
      "metadata": {
        "id": "K6oywl_64fhe",
        "colab_type": "code",
        "outputId": "4de04935-68a9-48b7-8b63-ac41d1581529",
        "colab": {
          "base_uri": "https://localhost:8080/",
          "height": 204
        }
      },
      "source": [
        "dataset_train=pd.read_csv(\"stock_train.csv\")\n",
        "dataset_train.head()"
      ],
      "execution_count": 0,
      "outputs": [
        {
          "output_type": "execute_result",
          "data": {
            "text/html": [
              "<div>\n",
              "<style scoped>\n",
              "    .dataframe tbody tr th:only-of-type {\n",
              "        vertical-align: middle;\n",
              "    }\n",
              "\n",
              "    .dataframe tbody tr th {\n",
              "        vertical-align: top;\n",
              "    }\n",
              "\n",
              "    .dataframe thead th {\n",
              "        text-align: right;\n",
              "    }\n",
              "</style>\n",
              "<table border=\"1\" class=\"dataframe\">\n",
              "  <thead>\n",
              "    <tr style=\"text-align: right;\">\n",
              "      <th></th>\n",
              "      <th>Date</th>\n",
              "      <th>Open</th>\n",
              "      <th>High</th>\n",
              "      <th>Low</th>\n",
              "      <th>Close</th>\n",
              "      <th>Volume</th>\n",
              "    </tr>\n",
              "  </thead>\n",
              "  <tbody>\n",
              "    <tr>\n",
              "      <th>0</th>\n",
              "      <td>1/3/2012</td>\n",
              "      <td>325.25</td>\n",
              "      <td>332.83</td>\n",
              "      <td>324.97</td>\n",
              "      <td>663.59</td>\n",
              "      <td>7,380,500</td>\n",
              "    </tr>\n",
              "    <tr>\n",
              "      <th>1</th>\n",
              "      <td>1/4/2012</td>\n",
              "      <td>331.27</td>\n",
              "      <td>333.87</td>\n",
              "      <td>329.08</td>\n",
              "      <td>666.45</td>\n",
              "      <td>5,749,400</td>\n",
              "    </tr>\n",
              "    <tr>\n",
              "      <th>2</th>\n",
              "      <td>1/5/2012</td>\n",
              "      <td>329.83</td>\n",
              "      <td>330.75</td>\n",
              "      <td>326.89</td>\n",
              "      <td>657.21</td>\n",
              "      <td>6,590,300</td>\n",
              "    </tr>\n",
              "    <tr>\n",
              "      <th>3</th>\n",
              "      <td>1/6/2012</td>\n",
              "      <td>328.34</td>\n",
              "      <td>328.77</td>\n",
              "      <td>323.68</td>\n",
              "      <td>648.24</td>\n",
              "      <td>5,405,900</td>\n",
              "    </tr>\n",
              "    <tr>\n",
              "      <th>4</th>\n",
              "      <td>1/9/2012</td>\n",
              "      <td>322.04</td>\n",
              "      <td>322.29</td>\n",
              "      <td>309.46</td>\n",
              "      <td>620.76</td>\n",
              "      <td>11,688,800</td>\n",
              "    </tr>\n",
              "  </tbody>\n",
              "</table>\n",
              "</div>"
            ],
            "text/plain": [
              "       Date    Open    High     Low   Close      Volume\n",
              "0  1/3/2012  325.25  332.83  324.97  663.59   7,380,500\n",
              "1  1/4/2012  331.27  333.87  329.08  666.45   5,749,400\n",
              "2  1/5/2012  329.83  330.75  326.89  657.21   6,590,300\n",
              "3  1/6/2012  328.34  328.77  323.68  648.24   5,405,900\n",
              "4  1/9/2012  322.04  322.29  309.46  620.76  11,688,800"
            ]
          },
          "metadata": {
            "tags": []
          },
          "execution_count": 27
        }
      ]
    },
    {
      "cell_type": "code",
      "metadata": {
        "id": "8ZkjEapF4lwv",
        "colab_type": "code",
        "colab": {}
      },
      "source": [
        "#we are gonna predict RNN values based on the Open value in the dataset\n",
        "training_set=dataset_train.iloc[:, 1:2].values"
      ],
      "execution_count": 0,
      "outputs": []
    },
    {
      "cell_type": "code",
      "metadata": {
        "id": "gfQ0ZLQW5cKz",
        "colab_type": "code",
        "outputId": "32b534bc-0ce1-4ab5-cce7-b72ef20fd424",
        "colab": {
          "base_uri": "https://localhost:8080/",
          "height": 102
        }
      },
      "source": [
        "print(training_set[0:5])"
      ],
      "execution_count": 0,
      "outputs": [
        {
          "output_type": "stream",
          "text": [
            "[[325.25]\n",
            " [331.27]\n",
            " [329.83]\n",
            " [328.34]\n",
            " [322.04]]\n"
          ],
          "name": "stdout"
        }
      ]
    },
    {
      "cell_type": "code",
      "metadata": {
        "id": "hbtVczTB5ebT",
        "colab_type": "code",
        "colab": {}
      },
      "source": [
        "#perform feature scaling\n",
        "from sklearn.preprocessing import MinMaxScaler\n",
        "sc = MinMaxScaler(feature_range=(0,1))\n",
        "training_set_scaled=sc.fit_transform(training_set)"
      ],
      "execution_count": 0,
      "outputs": []
    },
    {
      "cell_type": "code",
      "metadata": {
        "id": "9hIKZ4-X63Bf",
        "colab_type": "code",
        "outputId": "69761c79-e65b-4acb-873f-007c62b8b723",
        "colab": {
          "base_uri": "https://localhost:8080/",
          "height": 102
        }
      },
      "source": [
        "print(training_set_scaled[0:5])"
      ],
      "execution_count": 0,
      "outputs": [
        {
          "output_type": "stream",
          "text": [
            "[[0.08581368]\n",
            " [0.09701243]\n",
            " [0.09433366]\n",
            " [0.09156187]\n",
            " [0.07984225]]\n"
          ],
          "name": "stdout"
        }
      ]
    },
    {
      "cell_type": "code",
      "metadata": {
        "id": "NM0Uz-XA6_hu",
        "colab_type": "code",
        "colab": {}
      },
      "source": [
        "# Creating a data structure with 60 timesteps and 1 output\n",
        "X_train = []\n",
        "y_train = []\n",
        "for i in range(60, 1258):\n",
        "    X_train.append(training_set_scaled[i-60:i, 0])\n",
        "    y_train.append(training_set_scaled[i, 0])\n",
        "X_train, y_train = np.array(X_train), np.array(y_train)"
      ],
      "execution_count": 0,
      "outputs": []
    },
    {
      "cell_type": "code",
      "metadata": {
        "id": "ysdec50B2fbw",
        "colab_type": "code",
        "outputId": "f331c112-c807-40b3-f490-24b21fcb2310",
        "colab": {
          "base_uri": "https://localhost:8080/",
          "height": 187
        }
      },
      "source": [
        "print(X_train[0:1])"
      ],
      "execution_count": 0,
      "outputs": [
        {
          "output_type": "stream",
          "text": [
            "[[0.08581368 0.09701243 0.09433366 0.09156187 0.07984225 0.0643277\n",
            "  0.0585423  0.06568569 0.06109085 0.06639259 0.0614257  0.07474514\n",
            "  0.02797827 0.02379269 0.02409033 0.0159238  0.01078949 0.00967334\n",
            "  0.01642607 0.02100231 0.02280676 0.02273235 0.02810849 0.03212665\n",
            "  0.0433812  0.04475779 0.04790163 0.0440695  0.04648783 0.04745517\n",
            "  0.04873875 0.03936305 0.04137213 0.04034898 0.04784582 0.04325099\n",
            "  0.04356723 0.04286033 0.04602277 0.05398467 0.05738894 0.05714711\n",
            "  0.05569611 0.04421832 0.04514845 0.04605997 0.04412531 0.03675869\n",
            "  0.04486941 0.05065481 0.05214302 0.05612397 0.05818885 0.06540665\n",
            "  0.06882953 0.07243843 0.07993526 0.07846566 0.08034452 0.08497656]]\n"
          ],
          "name": "stdout"
        }
      ]
    },
    {
      "cell_type": "code",
      "metadata": {
        "id": "8YB9yF3y2iUR",
        "colab_type": "code",
        "outputId": "29eaf571-bfe2-485e-da7d-b4db5089b6c8",
        "colab": {
          "base_uri": "https://localhost:8080/",
          "height": 34
        }
      },
      "source": [
        "print(y_train[0:1])"
      ],
      "execution_count": 0,
      "outputs": [
        {
          "output_type": "stream",
          "text": [
            "[0.08627874]\n"
          ],
          "name": "stdout"
        }
      ]
    },
    {
      "cell_type": "code",
      "metadata": {
        "id": "Q_OoXLMs28gh",
        "colab_type": "code",
        "colab": {}
      },
      "source": [
        "# Reshaping\n",
        "#reshaping based on the keras recurrent layers, 3D tensor with shape (batch_size, timesteps, input_dim)\n",
        "X_train = np.reshape(X_train, (X_train.shape[0], X_train.shape[1], 1))\n",
        "#this is done only because RNN accepts only 3D data"
      ],
      "execution_count": 0,
      "outputs": []
    },
    {
      "cell_type": "code",
      "metadata": {
        "id": "wrbxAxbs54ZE",
        "colab_type": "code",
        "colab": {}
      },
      "source": [
        "# Importing the Keras libraries and packages\n",
        "from keras.models import Sequential\n",
        "from keras.layers import Dense\n",
        "from keras.layers import LSTM\n",
        "from keras.layers import Dropout"
      ],
      "execution_count": 0,
      "outputs": []
    },
    {
      "cell_type": "code",
      "metadata": {
        "id": "KhCoFdZT7kpH",
        "colab_type": "code",
        "outputId": "308da188-a00a-4f99-d8d6-f6a08155595e",
        "colab": {
          "base_uri": "https://localhost:8080/",
          "height": 1000
        }
      },
      "source": [
        "# Initialising the RNN\n",
        "regressor = Sequential()\n",
        "\n",
        "# Adding the first LSTM layer and some Dropout regularisation\n",
        "regressor.add(LSTM(units = 50, return_sequences = True, input_shape = (X_train.shape[1], 1))) #50 neurons\n",
        "regressor.add(Dropout(0.2))\n",
        "\n",
        "# Adding a second LSTM layer and some Dropout regularisation\n",
        "regressor.add(LSTM(units = 50, return_sequences = True))\n",
        "regressor.add(Dropout(0.2))\n",
        "\n",
        "# Adding a third LSTM layer and some Dropout regularisation\n",
        "regressor.add(LSTM(units = 80, return_sequences = True))\n",
        "regressor.add(Dropout(0.2))\n",
        "\n",
        "#trial additional layer\n",
        "regressor.add(LSTM(units = 100, return_sequences = True))\n",
        "regressor.add(Dropout(0.2))\n",
        "\n",
        "# Adding a fourth LSTM layer and some Dropout regularisation\n",
        "regressor.add(LSTM(units = 50))\n",
        "regressor.add(Dropout(0.2))\n",
        "\n",
        "# Adding the output layer\n",
        "regressor.add(Dense(units = 1))\n",
        "\n",
        "# Compiling the RNN\n",
        "regressor.compile(optimizer = 'adam', loss = 'mean_squared_error')\n",
        "\n",
        "# Fitting the RNN to the Training set\n",
        "regressor.fit(X_train, y_train, epochs = 100, batch_size = 32)\n"
      ],
      "execution_count": 0,
      "outputs": [
        {
          "output_type": "stream",
          "text": [
            "Epoch 1/100\n",
            "1198/1198 [==============================] - 17s 14ms/step - loss: 0.0429\n",
            "Epoch 2/100\n",
            "1198/1198 [==============================] - 11s 9ms/step - loss: 0.0065\n",
            "Epoch 3/100\n",
            "1198/1198 [==============================] - 11s 9ms/step - loss: 0.0059\n",
            "Epoch 4/100\n",
            "1198/1198 [==============================] - 11s 9ms/step - loss: 0.0059\n",
            "Epoch 5/100\n",
            "1198/1198 [==============================] - 11s 9ms/step - loss: 0.0058\n",
            "Epoch 6/100\n",
            "1198/1198 [==============================] - 11s 9ms/step - loss: 0.0049\n",
            "Epoch 7/100\n",
            "1198/1198 [==============================] - 11s 9ms/step - loss: 0.0047\n",
            "Epoch 8/100\n",
            "1198/1198 [==============================] - 11s 9ms/step - loss: 0.0046\n",
            "Epoch 9/100\n",
            "1198/1198 [==============================] - 11s 9ms/step - loss: 0.0056\n",
            "Epoch 10/100\n",
            "1198/1198 [==============================] - 11s 9ms/step - loss: 0.0047\n",
            "Epoch 11/100\n",
            "1198/1198 [==============================] - 12s 10ms/step - loss: 0.0045\n",
            "Epoch 12/100\n",
            "1198/1198 [==============================] - 11s 9ms/step - loss: 0.0048\n",
            "Epoch 13/100\n",
            "1198/1198 [==============================] - 11s 9ms/step - loss: 0.0039\n",
            "Epoch 14/100\n",
            "1198/1198 [==============================] - 11s 9ms/step - loss: 0.0039\n",
            "Epoch 15/100\n",
            "1198/1198 [==============================] - 11s 9ms/step - loss: 0.0041\n",
            "Epoch 16/100\n",
            "1198/1198 [==============================] - 11s 9ms/step - loss: 0.0041\n",
            "Epoch 17/100\n",
            "1198/1198 [==============================] - 11s 9ms/step - loss: 0.0038\n",
            "Epoch 18/100\n",
            "1198/1198 [==============================] - 11s 9ms/step - loss: 0.0037\n",
            "Epoch 19/100\n",
            "1198/1198 [==============================] - 11s 9ms/step - loss: 0.0040\n",
            "Epoch 20/100\n",
            "1198/1198 [==============================] - 11s 9ms/step - loss: 0.0038\n",
            "Epoch 21/100\n",
            "1198/1198 [==============================] - 11s 9ms/step - loss: 0.0038\n",
            "Epoch 22/100\n",
            "1198/1198 [==============================] - 11s 9ms/step - loss: 0.0036\n",
            "Epoch 23/100\n",
            "1198/1198 [==============================] - 11s 9ms/step - loss: 0.0034\n",
            "Epoch 24/100\n",
            "1198/1198 [==============================] - 11s 9ms/step - loss: 0.0031\n",
            "Epoch 25/100\n",
            "1198/1198 [==============================] - 11s 9ms/step - loss: 0.0029\n",
            "Epoch 26/100\n",
            "1198/1198 [==============================] - 11s 9ms/step - loss: 0.0041\n",
            "Epoch 27/100\n",
            "1198/1198 [==============================] - 11s 9ms/step - loss: 0.0034\n",
            "Epoch 28/100\n",
            "1198/1198 [==============================] - 11s 9ms/step - loss: 0.0032\n",
            "Epoch 29/100\n",
            "1198/1198 [==============================] - 11s 9ms/step - loss: 0.0033\n",
            "Epoch 30/100\n",
            "1198/1198 [==============================] - 11s 9ms/step - loss: 0.0034\n",
            "Epoch 31/100\n",
            "1198/1198 [==============================] - 11s 9ms/step - loss: 0.0034\n",
            "Epoch 32/100\n",
            "1198/1198 [==============================] - 11s 9ms/step - loss: 0.0028\n",
            "Epoch 33/100\n",
            "1198/1198 [==============================] - 11s 9ms/step - loss: 0.0031\n",
            "Epoch 34/100\n",
            "1198/1198 [==============================] - 11s 9ms/step - loss: 0.0033\n",
            "Epoch 35/100\n",
            "1198/1198 [==============================] - 11s 9ms/step - loss: 0.0028\n",
            "Epoch 36/100\n",
            "1198/1198 [==============================] - 11s 9ms/step - loss: 0.0035\n",
            "Epoch 37/100\n",
            "1198/1198 [==============================] - 11s 9ms/step - loss: 0.0028\n",
            "Epoch 38/100\n",
            "1198/1198 [==============================] - 11s 9ms/step - loss: 0.0027\n",
            "Epoch 39/100\n",
            "1198/1198 [==============================] - 11s 9ms/step - loss: 0.0027\n",
            "Epoch 40/100\n",
            "1198/1198 [==============================] - 11s 9ms/step - loss: 0.0031\n",
            "Epoch 41/100\n",
            "1198/1198 [==============================] - 11s 9ms/step - loss: 0.0028\n",
            "Epoch 42/100\n",
            "1198/1198 [==============================] - 11s 9ms/step - loss: 0.0029\n",
            "Epoch 43/100\n",
            "1198/1198 [==============================] - 11s 9ms/step - loss: 0.0033\n",
            "Epoch 44/100\n",
            "1198/1198 [==============================] - 11s 9ms/step - loss: 0.0030\n",
            "Epoch 45/100\n",
            "1198/1198 [==============================] - 11s 9ms/step - loss: 0.0026\n",
            "Epoch 46/100\n",
            "1198/1198 [==============================] - 11s 9ms/step - loss: 0.0023\n",
            "Epoch 47/100\n",
            "1198/1198 [==============================] - 11s 9ms/step - loss: 0.0025\n",
            "Epoch 48/100\n",
            "1198/1198 [==============================] - 11s 9ms/step - loss: 0.0024\n",
            "Epoch 49/100\n",
            "1198/1198 [==============================] - 11s 9ms/step - loss: 0.0024\n",
            "Epoch 50/100\n",
            "1198/1198 [==============================] - 11s 9ms/step - loss: 0.0023\n",
            "Epoch 51/100\n",
            "1198/1198 [==============================] - 11s 9ms/step - loss: 0.0022\n",
            "Epoch 52/100\n",
            "1198/1198 [==============================] - 11s 9ms/step - loss: 0.0023\n",
            "Epoch 53/100\n",
            "1198/1198 [==============================] - 11s 9ms/step - loss: 0.0025\n",
            "Epoch 54/100\n",
            "1198/1198 [==============================] - 11s 9ms/step - loss: 0.0024\n",
            "Epoch 55/100\n",
            "1198/1198 [==============================] - 11s 9ms/step - loss: 0.0022\n",
            "Epoch 56/100\n",
            "1198/1198 [==============================] - 11s 9ms/step - loss: 0.0023\n",
            "Epoch 57/100\n",
            "1198/1198 [==============================] - 11s 9ms/step - loss: 0.0024\n",
            "Epoch 58/100\n",
            "1198/1198 [==============================] - 11s 9ms/step - loss: 0.0025\n",
            "Epoch 59/100\n",
            "1198/1198 [==============================] - 11s 9ms/step - loss: 0.0022\n",
            "Epoch 60/100\n",
            "1198/1198 [==============================] - 11s 9ms/step - loss: 0.0022\n",
            "Epoch 61/100\n",
            "1198/1198 [==============================] - 11s 9ms/step - loss: 0.0020\n",
            "Epoch 62/100\n",
            "1198/1198 [==============================] - 11s 9ms/step - loss: 0.0027\n",
            "Epoch 63/100\n",
            "1198/1198 [==============================] - 11s 9ms/step - loss: 0.0026\n",
            "Epoch 64/100\n",
            "1198/1198 [==============================] - 11s 9ms/step - loss: 0.0020\n",
            "Epoch 65/100\n",
            "1198/1198 [==============================] - 11s 9ms/step - loss: 0.0020\n",
            "Epoch 66/100\n",
            "1198/1198 [==============================] - 11s 9ms/step - loss: 0.0020\n",
            "Epoch 67/100\n",
            "1198/1198 [==============================] - 11s 9ms/step - loss: 0.0020\n",
            "Epoch 68/100\n",
            "1198/1198 [==============================] - 11s 9ms/step - loss: 0.0021\n",
            "Epoch 69/100\n",
            "1198/1198 [==============================] - 11s 9ms/step - loss: 0.0023\n",
            "Epoch 70/100\n",
            "1198/1198 [==============================] - 11s 9ms/step - loss: 0.0020\n",
            "Epoch 71/100\n",
            "1198/1198 [==============================] - 11s 9ms/step - loss: 0.0022\n",
            "Epoch 72/100\n",
            "1198/1198 [==============================] - 11s 9ms/step - loss: 0.0019\n",
            "Epoch 73/100\n",
            "1198/1198 [==============================] - 11s 9ms/step - loss: 0.0022\n",
            "Epoch 74/100\n",
            "1198/1198 [==============================] - 11s 9ms/step - loss: 0.0019\n",
            "Epoch 75/100\n",
            "1198/1198 [==============================] - 11s 9ms/step - loss: 0.0016\n",
            "Epoch 76/100\n",
            "1198/1198 [==============================] - 11s 9ms/step - loss: 0.0020\n",
            "Epoch 77/100\n",
            "1198/1198 [==============================] - 11s 9ms/step - loss: 0.0021\n",
            "Epoch 78/100\n",
            "1198/1198 [==============================] - 11s 9ms/step - loss: 0.0017\n",
            "Epoch 79/100\n",
            "1198/1198 [==============================] - 11s 9ms/step - loss: 0.0017\n",
            "Epoch 80/100\n",
            "1198/1198 [==============================] - 11s 9ms/step - loss: 0.0019\n",
            "Epoch 81/100\n",
            "1198/1198 [==============================] - 11s 9ms/step - loss: 0.0020\n",
            "Epoch 82/100\n",
            "1198/1198 [==============================] - 11s 9ms/step - loss: 0.0017\n",
            "Epoch 83/100\n",
            "1198/1198 [==============================] - 11s 9ms/step - loss: 0.0017\n",
            "Epoch 84/100\n",
            "1198/1198 [==============================] - 11s 9ms/step - loss: 0.0015\n",
            "Epoch 85/100\n",
            "1198/1198 [==============================] - 11s 9ms/step - loss: 0.0017\n",
            "Epoch 86/100\n",
            "1198/1198 [==============================] - 11s 9ms/step - loss: 0.0018\n",
            "Epoch 87/100\n",
            "1198/1198 [==============================] - 11s 9ms/step - loss: 0.0017\n",
            "Epoch 88/100\n",
            "1198/1198 [==============================] - 11s 9ms/step - loss: 0.0018\n",
            "Epoch 89/100\n",
            "1198/1198 [==============================] - 11s 9ms/step - loss: 0.0016\n",
            "Epoch 90/100\n",
            "1198/1198 [==============================] - 11s 9ms/step - loss: 0.0018\n",
            "Epoch 91/100\n",
            "1198/1198 [==============================] - 11s 9ms/step - loss: 0.0017\n",
            "Epoch 92/100\n",
            "1198/1198 [==============================] - 11s 9ms/step - loss: 0.0015\n",
            "Epoch 93/100\n",
            "1198/1198 [==============================] - 11s 9ms/step - loss: 0.0017\n",
            "Epoch 94/100\n",
            "1198/1198 [==============================] - 11s 9ms/step - loss: 0.0016\n",
            "Epoch 95/100\n",
            "1198/1198 [==============================] - 11s 9ms/step - loss: 0.0015\n",
            "Epoch 96/100\n",
            "1198/1198 [==============================] - 11s 9ms/step - loss: 0.0017\n",
            "Epoch 97/100\n",
            "1198/1198 [==============================] - 11s 9ms/step - loss: 0.0015\n",
            "Epoch 98/100\n",
            "1198/1198 [==============================] - 11s 9ms/step - loss: 0.0015\n",
            "Epoch 99/100\n",
            "1198/1198 [==============================] - 11s 9ms/step - loss: 0.0016\n",
            "Epoch 100/100\n",
            "1198/1198 [==============================] - 11s 9ms/step - loss: 0.0014\n"
          ],
          "name": "stdout"
        },
        {
          "output_type": "execute_result",
          "data": {
            "text/plain": [
              "<keras.callbacks.History at 0x7f12889ed080>"
            ]
          },
          "metadata": {
            "tags": []
          },
          "execution_count": 37
        }
      ]
    },
    {
      "cell_type": "code",
      "metadata": {
        "id": "OJXQiVE3-3hI",
        "colab_type": "code",
        "colab": {}
      },
      "source": [
        "regressor.save(\"stock_prices_final.h5py\")"
      ],
      "execution_count": 0,
      "outputs": []
    },
    {
      "cell_type": "code",
      "metadata": {
        "id": "9qOPBP2Y--IV",
        "colab_type": "code",
        "outputId": "ecc408da-adbb-4b68-ce3c-963aa45a95f0",
        "colab": {
          "base_uri": "https://localhost:8080/",
          "height": 527
        }
      },
      "source": [
        "regressor.summary()"
      ],
      "execution_count": 0,
      "outputs": [
        {
          "output_type": "stream",
          "text": [
            "Model: \"sequential_4\"\n",
            "_________________________________________________________________\n",
            "Layer (type)                 Output Shape              Param #   \n",
            "=================================================================\n",
            "lstm_16 (LSTM)               (None, 60, 50)            10400     \n",
            "_________________________________________________________________\n",
            "dropout_16 (Dropout)         (None, 60, 50)            0         \n",
            "_________________________________________________________________\n",
            "lstm_17 (LSTM)               (None, 60, 50)            20200     \n",
            "_________________________________________________________________\n",
            "dropout_17 (Dropout)         (None, 60, 50)            0         \n",
            "_________________________________________________________________\n",
            "lstm_18 (LSTM)               (None, 60, 80)            41920     \n",
            "_________________________________________________________________\n",
            "dropout_18 (Dropout)         (None, 60, 80)            0         \n",
            "_________________________________________________________________\n",
            "lstm_19 (LSTM)               (None, 60, 100)           72400     \n",
            "_________________________________________________________________\n",
            "dropout_19 (Dropout)         (None, 60, 100)           0         \n",
            "_________________________________________________________________\n",
            "lstm_20 (LSTM)               (None, 50)                30200     \n",
            "_________________________________________________________________\n",
            "dropout_20 (Dropout)         (None, 50)                0         \n",
            "_________________________________________________________________\n",
            "dense_4 (Dense)              (None, 1)                 51        \n",
            "=================================================================\n",
            "Total params: 175,171\n",
            "Trainable params: 175,171\n",
            "Non-trainable params: 0\n",
            "_________________________________________________________________\n"
          ],
          "name": "stdout"
        }
      ]
    },
    {
      "cell_type": "code",
      "metadata": {
        "id": "VqTBN69v_A-_",
        "colab_type": "code",
        "colab": {}
      },
      "source": [
        "from keras.models import load_model\n",
        "regressor= load_model('stock_prices_final.h5py')"
      ],
      "execution_count": 0,
      "outputs": []
    },
    {
      "cell_type": "code",
      "metadata": {
        "id": "royFLRVePLGN",
        "colab_type": "code",
        "colab": {}
      },
      "source": [
        "downloaded = drive.CreateFile({'id':\"1EsW35-Ed3sJzHkwSz6vypPyNXzGLunfi\"})   # replace the id with id of file you want to access\n",
        "downloaded.GetContentFile('stock_test.csv') \n",
        "dataset_test = pd.read_csv('stock_test.csv')\n",
        "real_stock_price = dataset_test.iloc[:, 1:2].values"
      ],
      "execution_count": 0,
      "outputs": []
    },
    {
      "cell_type": "code",
      "metadata": {
        "id": "T1jqXpbkWWpc",
        "colab_type": "code",
        "colab": {}
      },
      "source": [
        "# Getting the predicted stock price of 2017\n",
        "dataset_total = pd.concat((dataset_train['Open'], dataset_test['Open']), axis = 0)\n",
        "inputs = dataset_total[len(dataset_total) - len(dataset_test) - 60:].values\n",
        "inputs = inputs.reshape(-1,1)\n",
        "inputs = sc.transform(inputs)\n",
        "X_test = []\n",
        "for i in range(60, 80):\n",
        "    X_test.append(inputs[i-60:i, 0])\n",
        "X_test = np.array(X_test)\n",
        "X_test = np.reshape(X_test, (X_test.shape[0], X_test.shape[1], 1))\n",
        "predicted_stock_price = regressor.predict(X_test)"
      ],
      "execution_count": 0,
      "outputs": []
    },
    {
      "cell_type": "code",
      "metadata": {
        "id": "GQIaIPpIW6jW",
        "colab_type": "code",
        "outputId": "6f2b3059-cf15-426f-b458-4363059ad88e",
        "colab": {
          "base_uri": "https://localhost:8080/",
          "height": 187
        }
      },
      "source": [
        "print(predicted_stock_price[0:10])"
      ],
      "execution_count": 0,
      "outputs": [
        {
          "output_type": "stream",
          "text": [
            "[[0.94588625]\n",
            " [0.9408989 ]\n",
            " [0.94179475]\n",
            " [0.94452643]\n",
            " [0.9508282 ]\n",
            " [0.9619193 ]\n",
            " [0.97170556]\n",
            " [0.97526205]\n",
            " [0.97566676]\n",
            " [0.97524214]]\n"
          ],
          "name": "stdout"
        }
      ]
    },
    {
      "cell_type": "code",
      "metadata": {
        "id": "cUb2K0wnYbGF",
        "colab_type": "code",
        "colab": {}
      },
      "source": [
        "predicted_stock_price = sc.inverse_transform(predicted_stock_price)"
      ],
      "execution_count": 0,
      "outputs": []
    },
    {
      "cell_type": "code",
      "metadata": {
        "id": "umQLT87eZKV3",
        "colab_type": "code",
        "outputId": "dab7fc0e-3416-42f5-e898-130ee47392d5",
        "colab": {
          "base_uri": "https://localhost:8080/",
          "height": 187
        }
      },
      "source": [
        "print(predicted_stock_price[0:10])"
      ],
      "execution_count": 0,
      "outputs": [
        {
          "output_type": "stream",
          "text": [
            "[[787.5906 ]\n",
            " [784.9096 ]\n",
            " [785.3912 ]\n",
            " [786.8596 ]\n",
            " [790.2472 ]\n",
            " [796.2093 ]\n",
            " [801.47003]\n",
            " [803.38184]\n",
            " [803.5994 ]\n",
            " [803.37115]]\n"
          ],
          "name": "stdout"
        }
      ]
    },
    {
      "cell_type": "code",
      "metadata": {
        "id": "QUnfTCiPam2y",
        "colab_type": "code",
        "outputId": "2a36ee02-7c72-463b-c94f-a3d665a2b49b",
        "colab": {
          "base_uri": "https://localhost:8080/",
          "height": 187
        }
      },
      "source": [
        "print(real_stock_price[0:10])"
      ],
      "execution_count": 0,
      "outputs": [
        {
          "output_type": "stream",
          "text": [
            "[[778.81]\n",
            " [788.36]\n",
            " [786.08]\n",
            " [795.26]\n",
            " [806.4 ]\n",
            " [807.86]\n",
            " [805.  ]\n",
            " [807.14]\n",
            " [807.48]\n",
            " [807.08]]\n"
          ],
          "name": "stdout"
        }
      ]
    },
    {
      "cell_type": "code",
      "metadata": {
        "id": "etpvkWwZZMRo",
        "colab_type": "code",
        "outputId": "74b79e31-4786-498f-dec0-a97137c5919f",
        "colab": {
          "base_uri": "https://localhost:8080/",
          "height": 295
        }
      },
      "source": [
        "# Visualising the results\n",
        "plt.plot(real_stock_price, color = 'red', label = 'Real Google Stock Price')\n",
        "plt.plot(predicted_stock_price, color = 'blue', label = 'Predicted Google Stock Price')\n",
        "plt.title('Google Stock Price Prediction')\n",
        "plt.xlabel('Time')\n",
        "plt.ylabel('Google Stock Price')\n",
        "plt.legend()\n",
        "plt.show()"
      ],
      "execution_count": 0,
      "outputs": [
        {
          "output_type": "display_data",
          "data": {
            "image/png": "[encoded data removed]",
            "text/plain": [
              "<Figure size 432x288 with 1 Axes>"
            ]
          },
          "metadata": {
            "tags": []
          }
        }
      ]
    }
  ]
}
